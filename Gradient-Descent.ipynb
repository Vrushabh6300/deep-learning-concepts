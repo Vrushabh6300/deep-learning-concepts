{
  "nbformat": 4,
  "nbformat_minor": 0,
  "metadata": {
    "colab": {
      "name": "DL03.ipynb",
      "provenance": [],
      "collapsed_sections": []
    },
    "kernelspec": {
      "name": "python3",
      "display_name": "Python 3"
    },
    "language_info": {
      "name": "python"
    }
  },
  "cells": [
    {
      "cell_type": "markdown",
      "metadata": {
        "id": "oGofQROOqqso"
      },
      "source": [
        "## Types of Gradient Descent"
      ]
    },
    {
      "cell_type": "code",
      "metadata": {
        "id": "T7j8t527qPp_"
      },
      "source": [
        "import numpy as np\n",
        "import pandas as pd\n",
        "import matplotlib.pyplot as plt"
      ],
      "execution_count": 1,
      "outputs": []
    },
    {
      "cell_type": "code",
      "metadata": {
        "colab": {
          "base_uri": "https://localhost:8080/",
          "height": 206
        },
        "id": "G21HucDBxNiA",
        "outputId": "09c37741-e362-49a3-fb02-8cf8fe564f1e"
      },
      "source": [
        "df = pd.read_csv('Houseprice_Bangalore.csv')\n",
        "df.head()"
      ],
      "execution_count": 2,
      "outputs": [
        {
          "output_type": "execute_result",
          "data": {
            "text/html": [
              "<div>\n",
              "<style scoped>\n",
              "    .dataframe tbody tr th:only-of-type {\n",
              "        vertical-align: middle;\n",
              "    }\n",
              "\n",
              "    .dataframe tbody tr th {\n",
              "        vertical-align: top;\n",
              "    }\n",
              "\n",
              "    .dataframe thead th {\n",
              "        text-align: right;\n",
              "    }\n",
              "</style>\n",
              "<table border=\"1\" class=\"dataframe\">\n",
              "  <thead>\n",
              "    <tr style=\"text-align: right;\">\n",
              "      <th></th>\n",
              "      <th>area</th>\n",
              "      <th>bedroom</th>\n",
              "      <th>price</th>\n",
              "    </tr>\n",
              "  </thead>\n",
              "  <tbody>\n",
              "    <tr>\n",
              "      <th>0</th>\n",
              "      <td>1056</td>\n",
              "      <td>2</td>\n",
              "      <td>39.07</td>\n",
              "    </tr>\n",
              "    <tr>\n",
              "      <th>1</th>\n",
              "      <td>2600</td>\n",
              "      <td>4</td>\n",
              "      <td>120.00</td>\n",
              "    </tr>\n",
              "    <tr>\n",
              "      <th>2</th>\n",
              "      <td>1440</td>\n",
              "      <td>3</td>\n",
              "      <td>62.00</td>\n",
              "    </tr>\n",
              "    <tr>\n",
              "      <th>3</th>\n",
              "      <td>1521</td>\n",
              "      <td>3</td>\n",
              "      <td>75.00</td>\n",
              "    </tr>\n",
              "    <tr>\n",
              "      <th>4</th>\n",
              "      <td>1200</td>\n",
              "      <td>2</td>\n",
              "      <td>51.00</td>\n",
              "    </tr>\n",
              "  </tbody>\n",
              "</table>\n",
              "</div>"
            ],
            "text/plain": [
              "   area  bedroom   price\n",
              "0  1056        2   39.07\n",
              "1  2600        4  120.00\n",
              "2  1440        3   62.00\n",
              "3  1521        3   75.00\n",
              "4  1200        2   51.00"
            ]
          },
          "metadata": {},
          "execution_count": 2
        }
      ]
    },
    {
      "cell_type": "code",
      "metadata": {
        "colab": {
          "base_uri": "https://localhost:8080/"
        },
        "id": "mI06hvnjxN95",
        "outputId": "99b1dae2-98f7-4073-ecdc-6b79f79cb52f"
      },
      "source": [
        "from sklearn.preprocessing import MinMaxScaler\n",
        "\n",
        "sx = MinMaxScaler()\n",
        "sy = MinMaxScaler()\n",
        "\n",
        "scaled_X = sx.fit_transform(df.drop('price', axis = 'columns'))\n",
        "scaled_X"
      ],
      "execution_count": 3,
      "outputs": [
        {
          "output_type": "execute_result",
          "data": {
            "text/plain": [
              "array([[0.08827586, 0.25      ],\n",
              "       [0.62068966, 0.75      ],\n",
              "       [0.22068966, 0.5       ],\n",
              "       [0.24862069, 0.5       ],\n",
              "       [0.13793103, 0.25      ],\n",
              "       [0.12758621, 0.25      ],\n",
              "       [0.6662069 , 0.75      ],\n",
              "       [0.86206897, 0.75      ],\n",
              "       [0.17586207, 0.5       ],\n",
              "       [1.        , 1.        ],\n",
              "       [0.34482759, 0.5       ],\n",
              "       [0.68448276, 0.75      ],\n",
              "       [0.06896552, 0.25      ],\n",
              "       [0.10344828, 0.25      ],\n",
              "       [0.5       , 0.5       ],\n",
              "       [0.12931034, 0.25      ],\n",
              "       [0.13103448, 0.5       ],\n",
              "       [0.25517241, 0.5       ],\n",
              "       [0.67931034, 0.5       ],\n",
              "       [0.        , 0.        ]])"
            ]
          },
          "metadata": {},
          "execution_count": 3
        }
      ]
    },
    {
      "cell_type": "code",
      "metadata": {
        "colab": {
          "base_uri": "https://localhost:8080/"
        },
        "id": "Aft8_5Xxx-yp",
        "outputId": "c0e8b87c-a149-41d5-c30c-0ea4112c0de9"
      },
      "source": [
        "scaled_y = sy.fit_transform(df['price'].values.reshape(df.shape[0], 1))\n",
        "scaled_y"
      ],
      "execution_count": 4,
      "outputs": [
        {
          "output_type": "execute_result",
          "data": {
            "text/plain": [
              "array([[0.05237037],\n",
              "       [0.65185185],\n",
              "       [0.22222222],\n",
              "       [0.31851852],\n",
              "       [0.14074074],\n",
              "       [0.04444444],\n",
              "       [0.76296296],\n",
              "       [0.91111111],\n",
              "       [0.13333333],\n",
              "       [1.        ],\n",
              "       [0.37037037],\n",
              "       [0.8       ],\n",
              "       [0.04444444],\n",
              "       [0.05925926],\n",
              "       [0.51111111],\n",
              "       [0.07407407],\n",
              "       [0.11851852],\n",
              "       [0.20740741],\n",
              "       [0.51851852],\n",
              "       [0.        ]])"
            ]
          },
          "metadata": {},
          "execution_count": 4
        }
      ]
    },
    {
      "cell_type": "markdown",
      "metadata": {
        "id": "1qGruzX5dJql"
      },
      "source": [
        "### Batch gradient descent\n",
        "- We go through all training samples and calculate cumulative error\n",
        "- Now we back propogate and adjust the weights"
      ]
    },
    {
      "cell_type": "code",
      "metadata": {
        "id": "oBlrdI2cx-jS"
      },
      "source": [
        "def batch_gradient_descent(X, y_true, epochs, learning_rate = 0.01):\n",
        "  number_of_features = X.shape[1]\n",
        "  w = np.ones(shape=(number_of_features))\n",
        "  b = 0\n",
        "  total_samples = X.shape[0]\n",
        "\n",
        "  cost_list = []\n",
        "  epoch_list = []\n",
        "\n",
        "  for i in range(epochs):\n",
        "    y_predicted = np.dot(w, scaled_X.T) + b           # w1*area + w2*bedroom + bias\n",
        "\n",
        "    w_grad = -(2/total_samples) * (X.T.dot(y_true - y_predicted))\n",
        "    b_grad = -(2/total_samples) * np.sum(y_true - y_predicted)\n",
        "\n",
        "    w = w - learning_rate * w_grad\n",
        "    b = b - learning_rate * b_grad\n",
        "\n",
        "    cost = np.mean(np.square(y_true - y_predicted))\n",
        "\n",
        "    if i%10 == 0:\n",
        "      cost_list.append(cost)\n",
        "      epoch_list.append(i)\n",
        "  return w, b, cost, cost_list, epoch_list\n"
      ],
      "execution_count": 5,
      "outputs": []
    },
    {
      "cell_type": "code",
      "metadata": {
        "colab": {
          "base_uri": "https://localhost:8080/"
        },
        "id": "cdzw9gwj06AQ",
        "outputId": "58b93799-aae0-425a-98e6-d2fed1ed22c2"
      },
      "source": [
        "w, b, cost, cost_list, epoch_list = batch_gradient_descent(scaled_X, scaled_y.reshape(scaled_y.shape[0],), 500)\n",
        "\n",
        "w, b, cost"
      ],
      "execution_count": 6,
      "outputs": [
        {
          "output_type": "execute_result",
          "data": {
            "text/plain": [
              "(array([0.70712464, 0.67456527]), -0.23034857438407427, 0.0068641890429808105)"
            ]
          },
          "metadata": {},
          "execution_count": 6
        }
      ]
    },
    {
      "cell_type": "code",
      "metadata": {
        "colab": {
          "base_uri": "https://localhost:8080/",
          "height": 279
        },
        "id": "79uh0Juy2U3m",
        "outputId": "33a27eb2-e86b-480c-d488-1a3b6211ef93"
      },
      "source": [
        "plt.xlabel('Epoch')\n",
        "plt.ylabel('Cost')\n",
        "plt.plot(epoch_list, cost_list)\n",
        "plt.show()"
      ],
      "execution_count": 7,
      "outputs": [
        {
          "output_type": "display_data",
          "data": {
            "image/png": "[encoded data removed]",
            "text/plain": [
              "<Figure size 432x288 with 1 Axes>"
            ]
          },
          "metadata": {
            "needs_background": "light"
          }
        }
      ]
    },
    {
      "cell_type": "code",
      "metadata": {
        "id": "eBgdBazw2UzD"
      },
      "source": [
        "def predict(area, bedroom, w, b):\n",
        "  scaled_X = sx.transform([[area, bedroom]])[0]\n",
        "\n",
        "  scaled_price = w[0] * scaled_X[0] + w[1] * scaled_X[1] + b\n",
        "\n",
        "  return sy.inverse_transform([[scaled_price]])\n"
      ],
      "execution_count": 8,
      "outputs": []
    },
    {
      "cell_type": "code",
      "metadata": {
        "colab": {
          "base_uri": "https://localhost:8080/"
        },
        "id": "SfY3OCHb2Uvp",
        "outputId": "89cce1c7-8ad6-4a99-91e7-ca28861e0f33"
      },
      "source": [
        "predict(1170, 2, w, b)"
      ],
      "execution_count": 9,
      "outputs": [
        {
          "output_type": "execute_result",
          "data": {
            "text/plain": [
              "array([[35.84913258]])"
            ]
          },
          "metadata": {},
          "execution_count": 9
        }
      ]
    },
    {
      "cell_type": "markdown",
      "metadata": {
        "id": "a-qiObN4W3tc"
      },
      "source": [
        "## Stochastic Gradient Descent\n",
        "- Use one (randomly picked) training samples for one\n",
        "forward pass and then adjust weights"
      ]
    },
    {
      "cell_type": "code",
      "metadata": {
        "id": "CZYtNLHRY87P"
      },
      "source": [
        "import random"
      ],
      "execution_count": 10,
      "outputs": []
    },
    {
      "cell_type": "code",
      "metadata": {
        "id": "-JgYLQQ12UsC"
      },
      "source": [
        "def stochastic_gradient_descent(X, y_true, epochs, learning_rate = 0.01):\n",
        "  number_of_features = X.shape[1]\n",
        "  w = np.ones(shape=(number_of_features))\n",
        "  b = 0\n",
        "  total_samples = X.shape[0]\n",
        "\n",
        "  cost_list = []\n",
        "  epoch_list = []\n",
        "\n",
        "  for i in range(epochs):\n",
        "    random_index = random.randint(0, total_samples-1)\n",
        "    sample_x = X[random_index]\n",
        "    sample_y = y_true[random_index]\n",
        "    y_predicted = np.dot(w, sample_x.T) + b           # w1*area + w2*bedroom + bias\n",
        "\n",
        "    w_grad = -(2/total_samples) * (sample_x.T.dot(sample_y - y_predicted))\n",
        "    b_grad = -(2/total_samples) * (sample_y - y_predicted)\n",
        "\n",
        "    w = w - learning_rate * w_grad\n",
        "    b = b - learning_rate * b_grad\n",
        "\n",
        "    cost = np.square(sample_y - y_predicted)\n",
        "\n",
        "    if i%100 == 0:\n",
        "      cost_list.append(cost)\n",
        "      epoch_list.append(i)\n",
        "  return w, b, cost, cost_list, epoch_list\n"
      ],
      "execution_count": 11,
      "outputs": []
    },
    {
      "cell_type": "code",
      "metadata": {
        "colab": {
          "base_uri": "https://localhost:8080/"
        },
        "id": "_sYR6KikYNaD",
        "outputId": "83c5af34-9182-4224-d15e-21424a7480c7"
      },
      "source": [
        "w_sgd, b_sgd, cost_sgd, cost_list_sgd, epoch_list_sgd = stochastic_gradient_descent(scaled_X, scaled_y.reshape(scaled_y.shape[0], ), 10000)\n",
        "\n",
        "w_sgd, b_sgd, cost_sgd"
      ],
      "execution_count": 12,
      "outputs": [
        {
          "output_type": "execute_result",
          "data": {
            "text/plain": [
              "(array([0.70840733, 0.67514498]), -0.23389165229824693, 0.005950716894194294)"
            ]
          },
          "metadata": {},
          "execution_count": 12
        }
      ]
    },
    {
      "cell_type": "code",
      "metadata": {
        "colab": {
          "base_uri": "https://localhost:8080/",
          "height": 279
        },
        "id": "Zd2KOLW7ZhvC",
        "outputId": "afcd86e9-a52b-4cf2-9caf-3e636885d020"
      },
      "source": [
        "plt.xlabel('Epoch')\n",
        "plt.ylabel('Cost')\n",
        "plt.plot(epoch_list_sgd, cost_list_sgd)\n",
        "plt.show()"
      ],
      "execution_count": 13,
      "outputs": [
        {
          "output_type": "display_data",
          "data": {
            "image/png": "[encoded data removed]",
            "text/plain": [
              "<Figure size 432x288 with 1 Axes>"
            ]
          },
          "metadata": {
            "needs_background": "light"
          }
        }
      ]
    },
    {
      "cell_type": "code",
      "metadata": {
        "id": "cdzV8nRgsNBF",
        "colab": {
          "base_uri": "https://localhost:8080/"
        },
        "outputId": "aeb6e432-7fd0-4ba6-eb4e-7d2774346aea"
      },
      "source": [
        "predict(2600, 4, w_sgd, b_sgd)"
      ],
      "execution_count": 14,
      "outputs": [
        {
          "output_type": "execute_result",
          "data": {
            "text/plain": [
              "array([[128.14270542]])"
            ]
          },
          "metadata": {},
          "execution_count": 14
        }
      ]
    },
    {
      "cell_type": "markdown",
      "metadata": {
        "id": "aQqSQBHeaSXs"
      },
      "source": [
        "## Mini Batch Gradient Descent\n",
        "- Use a batch of (randomly picked) training samples for\n",
        "a forward pass and then adjust weights"
      ]
    },
    {
      "cell_type": "code",
      "metadata": {
        "id": "EXt13qrGaIn3"
      },
      "source": [
        "def mini_batch_gradient_descent(X, y_true, epochs, learning_rate = 0.01):\n",
        "  number_of_features = X.shape[1]\n",
        "  w = np.ones(shape=(number_of_features))\n",
        "  b = 0\n",
        "  total_samples = X.shape[0]\n",
        "\n",
        "  cost_list = []\n",
        "  epoch_list = []\n",
        "\n",
        "  for i in range(epochs):\n",
        "    random_index = random.randint(0, total_samples-1)\n",
        "    sample_x = X[random_index:random_index+5]\n",
        "    sample_y = y_true[random_index:random_index+5]\n",
        "    y_predicted = np.dot(w, sample_x.T) + b           # w1*area + w2*bedroom + bias\n",
        "\n",
        "    w_grad = -(2/total_samples) * (sample_x.T.dot(sample_y - y_predicted))\n",
        "    b_grad = -(2/total_samples) * np.sum((sample_y - y_predicted))\n",
        "\n",
        "    w = w - learning_rate * w_grad\n",
        "    b = b - learning_rate * b_grad\n",
        "\n",
        "    cost = np.mean(np.square(sample_y - y_predicted))\n",
        "\n",
        "    if i%100 == 0:\n",
        "      cost_list.append(cost)\n",
        "      epoch_list.append(i)\n",
        "  return w, b, cost, cost_list, epoch_list\n"
      ],
      "execution_count": 15,
      "outputs": []
    },
    {
      "cell_type": "code",
      "metadata": {
        "colab": {
          "base_uri": "https://localhost:8080/"
        },
        "id": "VHJdl0pubKY2",
        "outputId": "fec23a61-af62-428d-8c79-a1c807d26685"
      },
      "source": [
        "w_mini_bgd, b_mini_bgd, cost_mini_bgd, cost_list_mini_bgd, epoch_list_mini_bgd = mini_batch_gradient_descent(scaled_X, scaled_y.reshape(scaled_y.shape[0], ), 10000)\n",
        "\n",
        "w_mini_bgd, b_mini_bgd, cost_mini_bgd"
      ],
      "execution_count": 16,
      "outputs": [
        {
          "output_type": "execute_result",
          "data": {
            "text/plain": [
              "(array([0.68189355, 0.51692016]), -0.13887931570542708, 0.009770523167035184)"
            ]
          },
          "metadata": {},
          "execution_count": 16
        }
      ]
    },
    {
      "cell_type": "code",
      "metadata": {
        "colab": {
          "base_uri": "https://localhost:8080/",
          "height": 281
        },
        "id": "ApoL0ehkcPru",
        "outputId": "5eba6924-79b5-47d6-e9b7-8edcfd4c833b"
      },
      "source": [
        "plt.xlabel('Epoch')\n",
        "plt.ylabel('Cost')\n",
        "plt.plot(epoch_list_mini_bgd, cost_list_mini_bgd)\n",
        "plt.show()"
      ],
      "execution_count": 17,
      "outputs": [
        {
          "output_type": "display_data",
          "data": {
            "image/png": "[encoded data removed]",
            "text/plain": [
              "<Figure size 432x288 with 1 Axes>"
            ]
          },
          "metadata": {
            "needs_background": "light"
          }
        }
      ]
    },
    {
      "cell_type": "code",
      "metadata": {
        "colab": {
          "base_uri": "https://localhost:8080/"
        },
        "id": "7aHwHq3kcWyH",
        "outputId": "edaf796d-806a-429c-e8cf-05f31e570420"
      },
      "source": [
        "predict(2600, 4, w_mini_bgd, b_mini_bgd)"
      ],
      "execution_count": 18,
      "outputs": [
        {
          "output_type": "execute_result",
          "data": {
            "text/plain": [
              "array([[122.7274351]])"
            ]
          },
          "metadata": {},
          "execution_count": 18
        }
      ]
    },
    {
      "cell_type": "markdown",
      "metadata": {
        "id": "wrS2vGXWczVU"
      },
      "source": [
        "## Difference between Batch Gradient Descent, Stochastic Gradient Descent (SGD) and Mini Batch Gradient Descent \n",
        "\n",
        "<table>\n",
        "  <tr>\n",
        "    <td align=\"center\"><b>Batch Gradient Descent</b></td>\n",
        "    <td align=\"center\"><b>Stochastic Gradient Descent (SGD)</b></td>\n",
        "    <td align=\"center\"><b>Mini Batch Gradient Descent</b></td>\n",
        "  </tr>\n",
        "  <tr>\n",
        "    <td>- Use all training samples for one forward pass and <br />then adjust weights</td>\n",
        "    <td>- Use one (randomly picked) training samples for one <br />forward pass and then adjust weights</td>\n",
        "    <td>- Use a batch of (randomly picked) training samples for<br /> a forward pass and then adjust weights</td>\n",
        "  </tr>\n",
        "  <tr>\n",
        "    <td>- Good for small training set</td>\n",
        "    <td>- Good when training set is very big and we don't want<br /> too much computation</td>\n",
        "    <td>- Good for big dataset</td>\n",
        "  </tr>\n",
        "</table>"
      ]
    }
  ]
}